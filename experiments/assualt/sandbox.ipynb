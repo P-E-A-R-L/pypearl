{
 "cells": [
  {
   "cell_type": "code",
   "id": "initial_id",
   "metadata": {
    "collapsed": true,
    "ExecuteTime": {
     "end_time": "2025-05-04T05:28:49.485949Z",
     "start_time": "2025-05-04T05:28:49.470136Z"
    }
   },
   "source": [
    "import numpy as np\n",
    "import cv2\n",
    "\n",
    "img = cv2.imread('img_3.png', cv2.IMREAD_GRAYSCALE)\n",
    "\n",
    "def split_vertical_lines(img: np.ndarray):\n",
    "    \"\"\"\n",
    "    Given a 2D grayscale (or binary) image `img` of shape (H, W),\n",
    "    returns two uint8 images (H, W):\n",
    "      - vertical: all pixels that belong to 1‑pixel‑wide vertical runs\n",
    "      - rest:      the original image with those vertical pixels zeroed out\n",
    "\n",
    "    A pixel at (y,x) is classified as \"vertical\" if:\n",
    "       img[y,x] != 0\n",
    "       AND img[y, x-1] == 0  (or x == 0)\n",
    "       AND img[y, x+1] == 0  (or x == W-1)\n",
    "\n",
    "    This picks out any vertical stroke of width exactly one.\n",
    "    \"\"\"\n",
    "    # flatten shape\n",
    "    if img.ndim != 2:\n",
    "        raise ValueError(\"Input must be a 2D array\")\n",
    "    H, W = img.shape\n",
    "\n",
    "    # foreground mask (non-zero)\n",
    "    fg = img != 0\n",
    "\n",
    "    # shift provided left/right (out‑of‑bounds treated as False)\n",
    "    left  = np.zeros_like(fg)\n",
    "    right = np.zeros_like(fg)\n",
    "    left[:, 1:]  = fg[:, :-1]\n",
    "    right[:, :-1] = fg[:, 1:]\n",
    "\n",
    "    # a pixel is a 1‑px vertical line if it's on and both neighbors are off\n",
    "    vertical_mask = fg & ~left & ~right\n",
    "\n",
    "    # build output images\n",
    "    vertical = np.zeros_like(img, dtype=np.uint8)\n",
    "    rest     = img.copy().astype(np.uint8)\n",
    "\n",
    "    vertical[vertical_mask] = img[vertical_mask]\n",
    "    rest[vertical_mask]     = 0\n",
    "\n",
    "    return vertical, rest\n",
    "\n",
    "\n",
    "def segment_assault_by_yranges(frame: np.ndarray):\n",
    "    \"\"\"\n",
    "    Purely spatial segmentation of a grayscale Assault frame into five provided:\n",
    "      1) mothership band\n",
    "      2) enemies band\n",
    "      3) bullets band (same as playfield)\n",
    "      4) all UI (top + bottom)\n",
    "      5) lives UI only (bottom UI, left slice)\n",
    "\n",
    "    Input:\n",
    "      frame: H×W or H×W×1 uint8 array\n",
    "    Returns:\n",
    "      moth, enemies, bullets, ui_all, ui_lives\n",
    "      each an H×W uint8 mask (0 or original pixel)\n",
    "    \"\"\"\n",
    "    # flatten to H×W\n",
    "    if frame.ndim == 3 and frame.shape[2] == 1:\n",
    "        img = frame[:, :, 0]\n",
    "    else:\n",
    "        img = frame\n",
    "    H, W = img.shape\n",
    "\n",
    "    # define breakpoints (fractions of H)\n",
    "    top_ui_frac     = 0.08   # top 8% = scoreboard\n",
    "    moth_frac       = 0.15\n",
    "    enemy_frac      = 0.64\n",
    "    # bottom UI fraction ~8%\n",
    "    bottom_ui_frac  = 0.12\n",
    "    bottom_ui_bar_frac = 0.04\n",
    "\n",
    "    # compute pixel rows\n",
    "    y0_top_ui    = 0\n",
    "    y1_top_ui    = int(H * top_ui_frac)\n",
    "    y0_moth      = y1_top_ui\n",
    "    y1_moth      = y0_moth + int(H * moth_frac)\n",
    "    y0_enemy     = y1_moth\n",
    "    y1_enemy     = y0_enemy + int(H * enemy_frac)\n",
    "    y0_player    = y1_enemy\n",
    "    y1_player    = H - int(H * bottom_ui_frac)\n",
    "    y0_bottom_ui = y1_player\n",
    "    y1_bottom_ui = H\n",
    "\n",
    "    # 1) Mothership mask: keep only rows [y0_moth:y1_moth]\n",
    "    moth = np.zeros_like(img)\n",
    "    moth[y0_moth:y1_moth, :] = img[y0_moth:y1_moth, :]\n",
    "\n",
    "    # 2) Enemies mask: rows [y0_enemy:y1_enemy]\n",
    "    enemies = np.zeros_like(img)\n",
    "    enemies[y0_enemy:y1_enemy, :] = img[y0_enemy:y1_enemy, :]\n",
    "\n",
    "    # 3) Bullets mask: rows [y0_bullets:y1_bullets]\n",
    "    #    (this is just the playfield excluding moth/enemy bands)\n",
    "    player = np.zeros_like(img)\n",
    "    player[y0_player:y1_player, :] = img[y0_player:y1_player, :]\n",
    "\n",
    "    # 4) All UI: top UI + bottom UI\n",
    "    ui_all = np.zeros_like(img)\n",
    "    ui_all[y0_top_ui:y1_top_ui, :]       = img[y0_top_ui:y1_top_ui, :]\n",
    "    ui_all[y0_bottom_ui:y1_bottom_ui, :] = img[y0_bottom_ui:y1_bottom_ui, :]\n",
    "\n",
    "    # 5) Lives-only UI: bottom UI, leftmost 25% of width\n",
    "    lives_w = int(W * 0.5)\n",
    "    ui_lives = np.zeros_like(img)\n",
    "    ui_lives[y0_bottom_ui + int(H * bottom_ui_bar_frac):y1_bottom_ui, 0:lives_w] = img[y0_bottom_ui + int(H * bottom_ui_bar_frac):y1_bottom_ui, 0:lives_w]\n",
    "\n",
    "    lives_w = int(W * 0.5)\n",
    "    ui_cannon = np.zeros_like(img)\n",
    "    ui_cannon[y0_bottom_ui + int(H * bottom_ui_bar_frac):y1_bottom_ui, lives_w:W] = img[y0_bottom_ui + int(H * bottom_ui_bar_frac):y1_bottom_ui, lives_w:W]\n",
    "\n",
    "    return moth, *split_vertical_lines(enemies), player, ui_all, ui_lives, ui_cannon"
   ],
   "outputs": [],
   "execution_count": 60
  },
  {
   "metadata": {
    "ExecuteTime": {
     "end_time": "2025-05-04T05:28:50.118204Z",
     "start_time": "2025-05-04T05:28:49.969014Z"
    }
   },
   "cell_type": "code",
   "source": [
    "import matplotlib.pyplot as plt\n",
    "titles = ['Mothership','Bullets', 'Enemies','Player','UI All','UI Lives', 'Cannon']\n",
    "imgs   = segment_assault_by_yranges(img)\n",
    "for i, im in enumerate(imgs):\n",
    "    plt.subplot(1,7,i+1)\n",
    "    plt.imshow(im, cmap='gray')\n",
    "    plt.title(titles[i])\n",
    "    plt.axis('off')\n",
    "plt.show()"
   ],
   "id": "14460d20b4228342",
   "outputs": [
    {
     "data": {
      "text/plain": [
       "<Figure size 640x480 with 7 Axes>"
      ],
      "image/png": "[encoded data removed]"
     },
     "metadata": {},
     "output_type": "display_data"
    }
   ],
   "execution_count": 61
  },
  {
   "metadata": {
    "ExecuteTime": {
     "end_time": "2025-05-04T06:16:17.673029Z",
     "start_time": "2025-05-04T06:16:17.660033Z"
    }
   },
   "cell_type": "code",
   "source": [
    "\n",
    "def weighted_centroid(img: np.ndarray):\n",
    "    \"\"\"\n",
    "    Compute the intensity-weighted centroid of a 2D grayscale image.\n",
    "\n",
    "    Args:\n",
    "      img: 2D numpy array of shape (H, W), dtype float or uint8.\n",
    "\n",
    "    Returns:\n",
    "      (x_centroid, y_centroid): floats giving the weighted average\n",
    "        of the column and row indices, respectively.\n",
    "    \"\"\"\n",
    "    # ensure float\n",
    "    I = img.astype(np.float64)\n",
    "\n",
    "    # coordinates\n",
    "    H, W = I.shape\n",
    "    ys = np.arange(H)[:, None]  # shape (H,1)\n",
    "    xs = np.arange(W)[None, :]  # shape (1,W)\n",
    "\n",
    "    total_intensity = I.sum()\n",
    "    if total_intensity == 0:\n",
    "        # avoid division by zero; return center of image\n",
    "        return (W - 1) / 2.0, (H - 1) / 2.0\n",
    "\n",
    "    x_center = (I * xs).sum() / total_intensity\n",
    "    y_center = (I * ys).sum() / total_intensity\n",
    "\n",
    "    return x_center, y_center\n",
    "\n",
    "print(np.max(imgs[0]))\n",
    "print(weighted_centroid(imgs[2]))"
   ],
   "id": "308f22e3723b981",
   "outputs": [
    {
     "name": "stdout",
     "output_type": "stream",
     "text": [
      "147\n",
      "(np.float64(21.07392723880597), np.float64(32.54500932835821))\n"
     ]
    }
   ],
   "execution_count": 62
  },
  {
   "metadata": {},
   "cell_type": "code",
   "outputs": [],
   "execution_count": null,
   "source": "",
   "id": "62cf1e0a59e3d53b"
  }
 ],
 "metadata": {
  "kernelspec": {
   "display_name": "Python 3",
   "language": "python",
   "name": "python3"
  },
  "language_info": {
   "codemirror_mode": {
    "name": "ipython",
    "version": 2
   },
   "file_extension": ".py",
   "mimetype": "text/x-python",
   "name": "python",
   "nbconvert_exporter": "python",
   "pygments_lexer": "ipython2",
   "version": "2.7.6"
  }
 },
 "nbformat": 4,
 "nbformat_minor": 5
}
